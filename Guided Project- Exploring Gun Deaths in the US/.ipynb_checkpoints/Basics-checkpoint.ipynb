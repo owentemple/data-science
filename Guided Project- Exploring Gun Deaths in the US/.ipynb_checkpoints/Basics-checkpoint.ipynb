{
 "cells": [
  {
   "cell_type": "code",
   "execution_count": 3,
   "metadata": {
    "collapsed": false
   },
   "outputs": [
    {
     "name": "stdout",
     "output_type": "stream",
     "text": [
      "[['', 'year', 'month', 'intent', 'police', 'sex', 'age', 'race', 'hispanic', 'place', 'education'], ['1', '2012', '01', 'Suicide', '0', 'M', '34', 'Asian/Pacific Islander', '100', 'Home', '4'], ['2', '2012', '01', 'Suicide', '0', 'F', '21', 'White', '100', 'Street', '3'], ['3', '2012', '01', 'Suicide', '0', 'M', '60', 'White', '100', 'Other specified', '4'], ['4', '2012', '02', 'Suicide', '0', 'M', '64', 'White', '100', 'Home', '4']]\n"
     ]
    }
   ],
   "source": [
    "import csv\n",
    "f = open(\"guns.csv\", \"r\")\n",
    "data = list(csv.reader(f))\n",
    "print(data[0:5])"
   ]
  },
  {
   "cell_type": "code",
   "execution_count": 4,
   "metadata": {
    "collapsed": false
   },
   "outputs": [
    {
     "name": "stdout",
     "output_type": "stream",
     "text": [
      "[['', 'year', 'month', 'intent', 'police', 'sex', 'age', 'race', 'hispanic', 'place', 'education']]\n",
      "[['1', '2012', '01', 'Suicide', '0', 'M', '34', 'Asian/Pacific Islander', '100', 'Home', '4'], ['2', '2012', '01', 'Suicide', '0', 'F', '21', 'White', '100', 'Street', '3'], ['3', '2012', '01', 'Suicide', '0', 'M', '60', 'White', '100', 'Other specified', '4'], ['4', '2012', '02', 'Suicide', '0', 'M', '64', 'White', '100', 'Home', '4'], ['5', '2012', '02', 'Suicide', '0', 'M', '31', 'White', '100', 'Other specified', '2']]\n"
     ]
    }
   ],
   "source": [
    "headers = data[0:1]\n",
    "\n",
    "data = data[1:]\n",
    "\n",
    "print(headers)\n",
    "print(data[0:5])"
   ]
  },
  {
   "cell_type": "code",
   "execution_count": 5,
   "metadata": {
    "collapsed": true
   },
   "outputs": [],
   "source": [
    "years = [row[1] for row in data]"
   ]
  },
  {
   "cell_type": "code",
   "execution_count": 6,
   "metadata": {
    "collapsed": false
   },
   "outputs": [
    {
     "name": "stdout",
     "output_type": "stream",
     "text": [
      "{'2012': 33563, '2014': 33599, '2013': 33636}\n"
     ]
    }
   ],
   "source": [
    "year_counts = {}\n",
    "for year in years:\n",
    "    if year in year_counts:\n",
    "        year_counts[year] += 1\n",
    "    else:\n",
    "        year_counts[year] = 1\n",
    "        \n",
    "print(year_counts)"
   ]
  },
  {
   "cell_type": "code",
   "execution_count": 7,
   "metadata": {
    "collapsed": false
   },
   "outputs": [],
   "source": [
    "import datetime\n",
    "dates = [datetime.datetime(year=int(row[1]), month=int(row[2]), day=1) for row in data]"
   ]
  },
  {
   "cell_type": "code",
   "execution_count": 8,
   "metadata": {
    "collapsed": false
   },
   "outputs": [
    {
     "name": "stdout",
     "output_type": "stream",
     "text": [
      "[datetime.datetime(2012, 1, 1, 0, 0), datetime.datetime(2012, 1, 1, 0, 0), datetime.datetime(2012, 1, 1, 0, 0), datetime.datetime(2012, 2, 1, 0, 0), datetime.datetime(2012, 2, 1, 0, 0)]\n"
     ]
    }
   ],
   "source": [
    "print(dates[0:5])"
   ]
  },
  {
   "cell_type": "code",
   "execution_count": 9,
   "metadata": {
    "collapsed": false
   },
   "outputs": [
    {
     "name": "stdout",
     "output_type": "stream",
     "text": [
      "{datetime.datetime(2012, 10, 1, 0, 0): 2733, datetime.datetime(2012, 7, 1, 0, 0): 3026, datetime.datetime(2013, 10, 1, 0, 0): 2808, datetime.datetime(2013, 9, 1, 0, 0): 2742, datetime.datetime(2012, 12, 1, 0, 0): 2791, datetime.datetime(2014, 2, 1, 0, 0): 2361, datetime.datetime(2014, 4, 1, 0, 0): 2862, datetime.datetime(2014, 5, 1, 0, 0): 2864, datetime.datetime(2012, 9, 1, 0, 0): 2852, datetime.datetime(2013, 8, 1, 0, 0): 2859, datetime.datetime(2014, 9, 1, 0, 0): 2914, datetime.datetime(2013, 5, 1, 0, 0): 2806, datetime.datetime(2012, 1, 1, 0, 0): 2758, datetime.datetime(2012, 3, 1, 0, 0): 2743, datetime.datetime(2014, 8, 1, 0, 0): 2970, datetime.datetime(2013, 7, 1, 0, 0): 3079, datetime.datetime(2014, 1, 1, 0, 0): 2651, datetime.datetime(2013, 2, 1, 0, 0): 2375, datetime.datetime(2012, 11, 1, 0, 0): 2729, datetime.datetime(2014, 10, 1, 0, 0): 2865, datetime.datetime(2013, 11, 1, 0, 0): 2758, datetime.datetime(2014, 6, 1, 0, 0): 2931, datetime.datetime(2012, 8, 1, 0, 0): 2954, datetime.datetime(2013, 4, 1, 0, 0): 2798, datetime.datetime(2013, 1, 1, 0, 0): 2864, datetime.datetime(2014, 12, 1, 0, 0): 2857, datetime.datetime(2012, 6, 1, 0, 0): 2826, datetime.datetime(2013, 12, 1, 0, 0): 2765, datetime.datetime(2014, 11, 1, 0, 0): 2756, datetime.datetime(2012, 5, 1, 0, 0): 2999, datetime.datetime(2013, 6, 1, 0, 0): 2920, datetime.datetime(2014, 7, 1, 0, 0): 2884, datetime.datetime(2013, 3, 1, 0, 0): 2862, datetime.datetime(2012, 2, 1, 0, 0): 2357, datetime.datetime(2014, 3, 1, 0, 0): 2684, datetime.datetime(2012, 4, 1, 0, 0): 2795}\n"
     ]
    }
   ],
   "source": [
    "date_counts = {}\n",
    "\n",
    "for item in dates:\n",
    "    if item in date_counts:\n",
    "        date_counts[item] += 1\n",
    "    else:\n",
    "        date_counts[item] = 1\n",
    "\n",
    "print(date_counts)"
   ]
  },
  {
   "cell_type": "code",
   "execution_count": 10,
   "metadata": {
    "collapsed": false
   },
   "outputs": [
    {
     "name": "stdout",
     "output_type": "stream",
     "text": [
      "{'M': 86349, 'F': 14449}\n"
     ]
    }
   ],
   "source": [
    "sex_counts = {}\n",
    "\n",
    "for row in data:\n",
    "    sex = row[5]\n",
    "    if sex in sex_counts:\n",
    "        sex_counts[sex] += 1\n",
    "    else:\n",
    "        sex_counts[sex] = 1\n",
    "print(sex_counts)"
   ]
  },
  {
   "cell_type": "code",
   "execution_count": 11,
   "metadata": {
    "collapsed": false
   },
   "outputs": [
    {
     "name": "stdout",
     "output_type": "stream",
     "text": [
      "{'Asian/Pacific Islander': 1326, 'Black': 23296, 'Native American/Native Alaskan': 917, 'Hispanic': 9022, 'White': 66237}\n"
     ]
    }
   ],
   "source": [
    "race_counts = {}\n",
    "\n",
    "for row in data:\n",
    "    race = row[7]\n",
    "    if race in race_counts:\n",
    "        race_counts[race] += 1\n",
    "    else:\n",
    "        race_counts[race] = 1\n",
    "print(race_counts)"
   ]
  },
  {
   "cell_type": "markdown",
   "metadata": {},
   "source": [
    "At first glance, it looks like women and black people are overrepresented as victims in gun death incidents.\n",
    "\n",
    "It would be interesting to see if women or men, segmented by race, are more likely to be victims in a gun death."
   ]
  },
  {
   "cell_type": "code",
   "execution_count": 12,
   "metadata": {
    "collapsed": false
   },
   "outputs": [
    {
     "name": "stdout",
     "output_type": "stream",
     "text": [
      "[['Id', 'Year', 'Id', 'Sex', 'Id', 'Hispanic Origin', 'Id', 'Id2', 'Geography', 'Total', 'Race Alone - White', 'Race Alone - Hispanic', 'Race Alone - Black or African American', 'Race Alone - American Indian and Alaska Native', 'Race Alone - Asian', 'Race Alone - Native Hawaiian and Other Pacific Islander', 'Two or More Races'], ['cen42010', 'April 1, 2010 Census', 'totsex', 'Both Sexes', 'tothisp', 'Total', '0100000US', '', 'United States', '308745538', '197318956', '44618105', '40250635', '3739506', '15159516', '674625', '6984195']]\n"
     ]
    }
   ],
   "source": [
    "g = open(\"census.csv\", \"r\")\n",
    "census = list(csv.reader(g))\n",
    "print(census)"
   ]
  },
  {
   "cell_type": "code",
   "execution_count": 13,
   "metadata": {
    "collapsed": false
   },
   "outputs": [],
   "source": [
    "mapping = {}\n",
    "\n",
    "for row in census[1:]:\n",
    "    mapping[\"Asian/Pacific Islander\"] = int(row[14]) + int(row[15])\n",
    "    mapping[\"Black\"] = int(row[12])\n",
    "    mapping[\"Hispanic\"] = int(row[11])\n",
    "    mapping[\"Native American/Native Alaskan\"] = int(row[13])\n",
    "    mapping[\"White\"] = int(row[10])\n",
    "\n",
    "race_per_hundredk = {}"
   ]
  },
  {
   "cell_type": "code",
   "execution_count": 14,
   "metadata": {
    "collapsed": false
   },
   "outputs": [
    {
     "name": "stdout",
     "output_type": "stream",
     "text": [
      "{'Asian/Pacific Islander': 15834141, 'Black': 40250635, 'Native American/Native Alaskan': 3739506, 'White': 197318956, 'Hispanic': 44618105}\n"
     ]
    }
   ],
   "source": [
    "print(mapping)"
   ]
  },
  {
   "cell_type": "code",
   "execution_count": 15,
   "metadata": {
    "collapsed": false
   },
   "outputs": [
    {
     "name": "stdout",
     "output_type": "stream",
     "text": [
      "{'Asian/Pacific Islander': 8.374309664161762, 'Black': 57.8773477735196, 'Native American/Native Alaskan': 24.521955573811088, 'White': 33.56849303419181, 'Hispanic': 20.220491210910907}\n"
     ]
    }
   ],
   "source": [
    "for race in race_counts:\n",
    "    race_per_hundredk[race] = (race_counts[race] / mapping[race]) * 100000\n",
    "    \n",
    "print(race_per_hundredk)"
   ]
  },
  {
   "cell_type": "code",
   "execution_count": 17,
   "metadata": {
    "collapsed": false
   },
   "outputs": [],
   "source": [
    "intents = [row[3] for row in data]\n",
    "\n",
    "races = [row[7] for row in data]\n",
    "\n",
    "homicide_race_per_hundredk = {}\n",
    "\n",
    "for i, race in enumerate(races):\n",
    "    if intents[i] == 'Homicide':\n",
    "        if race in homicide_race_per_hundredk:\n",
    "            homicide_race_per_hundredk[race] += 1\n",
    "        else:\n",
    "            homicide_race_per_hundredk[race] = 1\n",
    "            \n",
    "\n",
    "    \n",
    "    "
   ]
  },
  {
   "cell_type": "code",
   "execution_count": 18,
   "metadata": {
    "collapsed": false
   },
   "outputs": [
    {
     "name": "stdout",
     "output_type": "stream",
     "text": [
      "{'Asian/Pacific Islander': 559, 'Black': 19510, 'Native American/Native Alaskan': 326, 'Hispanic': 5634, 'White': 9147}\n"
     ]
    }
   ],
   "source": [
    "print(homicide_race_per_hundredk)"
   ]
  },
  {
   "cell_type": "code",
   "execution_count": 21,
   "metadata": {
    "collapsed": true
   },
   "outputs": [],
   "source": [
    "for race in homicide_race_per_hundredk:\n",
    "    homicide_race_per_hundredk[race] = (homicide_race_per_hundredk[race] / mapping[race]) * 100000"
   ]
  },
  {
   "cell_type": "code",
   "execution_count": 22,
   "metadata": {
    "collapsed": false
   },
   "outputs": [
    {
     "name": "stdout",
     "output_type": "stream",
     "text": [
      "{'Asian/Pacific Islander': 2.229578624423109e-07, 'Black': 1.2042365291176386e-06, 'Native American/Native Alaskan': 2.331251514569134e-06, 'Hispanic': 2.8300532046844914e-07, 'White': 2.349313969685373e-08}\n"
     ]
    }
   ],
   "source": [
    "print(homicide_race_per_hundredk)"
   ]
  },
  {
   "cell_type": "markdown",
   "metadata": {},
   "source": [
    "Examing the homicide rates by race relative to the races representation in the total population, it appears that black people are less likely to be victims of homicide in a gun death. It also appears that hispanic people may be more likely to be victims of homicide in a gun death. It would require statistical testing to be sure this is a statistically significant difference between the race groups."
   ]
  },
  {
   "cell_type": "code",
   "execution_count": null,
   "metadata": {
    "collapsed": true
   },
   "outputs": [],
   "source": []
  }
 ],
 "metadata": {
  "kernelspec": {
   "display_name": "Python 3",
   "language": "python",
   "name": "python3"
  },
  "language_info": {
   "codemirror_mode": {
    "name": "ipython",
    "version": 3
   },
   "file_extension": ".py",
   "mimetype": "text/x-python",
   "name": "python",
   "nbconvert_exporter": "python",
   "pygments_lexer": "ipython3",
   "version": "3.4.3"
  }
 },
 "nbformat": 4,
 "nbformat_minor": 0
}
