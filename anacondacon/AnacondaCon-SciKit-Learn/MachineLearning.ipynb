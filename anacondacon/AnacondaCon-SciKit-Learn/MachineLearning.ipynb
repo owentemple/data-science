{
 "cells": [
  {
   "cell_type": "markdown",
   "metadata": {},
   "source": [
    "<img src='notebooks/img/logo.png'>"
   ]
  },
  {
   "cell_type": "markdown",
   "metadata": {},
   "source": [
    "<big><big><big><b>Anaconda: the Open-Source Platform for Data Science</b></big></big></big>\n",
    "<br/><br/>\n",
    "<big><big><i>Introduction to Machine Learning with Python</i></big></big>"
   ]
  },
  {
   "cell_type": "markdown",
   "metadata": {},
   "source": [
    "# Machine Learning Fundamentals"
   ]
  },
  {
   "cell_type": "markdown",
   "metadata": {},
   "source": [
    "This course will cover theoretical *basics* of machine learning, with a focus on the tools in **scikit-learn**.  We assume a passing familiarity with statistical techniques, but concentrate on the concrete APIs available in Python machine learning libraries.\n",
    "\n",
    "A specialized area within machine learning is often called *deep learning*, and focuses on use of neural networks.  Basic support for neural networks is available in scikit-learn, but for more sophisticated tasks and faster processessing, you will want to use `tensor-flow` or `theano` (or the `keras` and `lasagna` libraries built on top of them)."
   ]
  },
  {
   "cell_type": "markdown",
   "metadata": {},
   "source": [
    "# Table of Contents\n",
    "* [Machine Learning Fundamentals](#Machine-Learning-Fundamentals)\n",
    "\t* [Classical scientific discovery](#Classical-scientific-discovery)\n",
    "\t* [Statistical Learning](#Statistical-Learning)\n",
    "* [Model Selection](#Model-Selection)\n",
    "\t* [Model structure](#Model-structure)\n",
    "\t* [... the next steps](#...-the-next-steps)\n",
    "* [Supervised Learning](#Supervised-Learning)\n",
    "* [Unsupervised Learning](#Unsupervised-Learning)\n",
    "* [Neural Networks](#Neural-Networks)\n",
    "\t* [Feedforward neural networks](#Feedforward-neural-networks)\n",
    "\t* [Recurrent neural network](#Recurrent-neural-network)\n"
   ]
  },
  {
   "cell_type": "markdown",
   "metadata": {},
   "source": [
    "## Classical scientific discovery"
   ]
  },
  {
   "cell_type": "markdown",
   "metadata": {},
   "source": [
    "1. Observe and record data linked to outcome;\n",
    "1. Analyze data for deeper physical connection;\n",
    "1. Devise a **simple theory** to explain the outcome from observed data;\n",
    "1. Predict new outcomes with the theory.\n",
    "\n",
    "\n",
    "Advantages of simple theories:\n",
    "\n",
    "* Minimal assumptions about underlying physics;\n",
    "* Generally built on other accepted background theories.\n",
    "\n",
    "Disadvantages:\n",
    "\n",
    "* Gross simplifications: massless ropes, point particles, ideal gases;\n",
    "* Simple theories can be difficult or impossible to design;\n",
    "* Difficulty choosing between multiple rival theories."
   ]
  },
  {
   "cell_type": "markdown",
   "metadata": {},
   "source": [
    "## Statistical Learning"
   ]
  },
  {
   "cell_type": "markdown",
   "metadata": {},
   "source": [
    "**What if we didn't care about the underlying theory?**\n",
    "\n",
    "A **statistical model** is an algorithm that uses *previous* knowledge of observations and outcomes to predict outcomes over *new* observations\n",
    "\n",
    "1. Gather a set of observations and known outcomes;\n",
    "1. Prepare a statistical model based on *proximity to previous observations with known outcomes*;\n",
    "1. Evaluate the effectiveness of the model using a set of *previously hidden observations and outcomes*;\n",
    "1. Make changes to statistical model and repeat until satisfied;\n",
    "1. Predict outcomes given new observations.\n",
    "\n",
    "\n",
    "Advantages:\n",
    "\n",
    "* Reduced time to *build the model* and start predicting;\n",
    "* Ability to re-build the model with new data;\n",
    "* Ability to link previously unrelated sets of observations into the model;\n",
    "* Rigorous statistical methods to evaluate effectiveness and compare multiple models;\n",
    "* Trade *complexity* against *generality*.\n",
    "\n",
    "Disadvantages:\n",
    "\n",
    "* Large amounts of observation and outcome data is required;\n",
    "* Observation data must be *cleaned* and *processed* to match assumptions of the model algorithm;\n",
    "* *Very many* model algorithms to pick from;\n",
    "* Reduced ability to *explain* why the model works."
   ]
  },
  {
   "cell_type": "markdown",
   "metadata": {},
   "source": [
    "# Model Selection"
   ]
  },
  {
   "cell_type": "markdown",
   "metadata": {},
   "source": [
    "http://scikit-learn.org/stable/tutorial/machine_learning_map/"
   ]
  },
  {
   "cell_type": "markdown",
   "metadata": {},
   "source": [
    "<img src='notebooks/img/ml_map.png'>"
   ]
  },
  {
   "cell_type": "markdown",
   "metadata": {},
   "source": [
    "## Model structure"
   ]
  },
  {
   "cell_type": "markdown",
   "metadata": {},
   "source": [
    "<table style=\"border:None\">\n",
    "<tr style=\"border:None; font-size:20px; padding:10px;\"><th colspan=2>``model.fit(X_train, [y_train])``</td></tr>\n",
    "<tr style=\"border:None; font-size:20px; padding:10px;\"><th>``model.predict(X_test)``</th><th>``model.transform(X_test)``</th></tr>\n",
    "<tr style=\"border:None; font-size:20px; padding:10px;\"><td>Classification</td><td>Preprocessing</td></tr>\n",
    "<tr style=\"border:None; font-size:20px; padding:10px;\"><td>Regression</td><td>Dimensionality Reduction</td></tr>\n",
    "<tr style=\"border:None; font-size:20px; padding:10px;\"><td>Clustering</td><td>Feature Extraction</td></tr>\n",
    "<tr style=\"border:None; font-size:20px; padding:10px;\"><td>&nbsp;</td><td>Feature selection</td></tr>\n",
    "</table>"
   ]
  },
  {
   "cell_type": "markdown",
   "metadata": {},
   "source": [
    "## ... and the next steps\n",
    "\n",
    "Credit: https://xkcd.com/1838/"
   ]
  },
  {
   "cell_type": "markdown",
   "metadata": {},
   "source": [
    "<img src=\"notebooks/img/xkcd-machine_learning.png\" width=\"40%\" align=\"left\"/>"
   ]
  },
  {
   "cell_type": "markdown",
   "metadata": {},
   "source": [
    "# Supervised Learning"
   ]
  },
  {
   "cell_type": "markdown",
   "metadata": {},
   "source": [
    "<a href='notebooks/Supervised.ipynb' class='btn btn-lg btn-primary'>Overview of Supervised Learning</a>"
   ]
  },
  {
   "cell_type": "markdown",
   "metadata": {},
   "source": [
    "<div class=\"row\">\n",
    "    <a href='notebooks/Cross_Validation_and_Grid_Searches.ipynb' class='btn btn-primary btn-lg' style=\"float:left\">Cross Validation and Grid Searches</a>\n",
    "    <div class=\"row\" style=\"float:right\">\n",
    "        <a href='notebooks/Cross_Validation_and_Grid_Searches_Exercises.ipynb' class='btn btn-primary btn-lg' style=\"float:left\">Exercises</a>\n",
    "    </div>"
   ]
  },
  {
   "cell_type": "markdown",
   "metadata": {},
   "source": [
    "<div class=\"row\">\n",
    "    <a href='notebooks/Evaluation_Metrics.ipynb' class='btn btn-primary btn-lg' style=\"float:left\">Classification and Evaluation</a>\n",
    "    <div class=\"row\" style=\"float:right\">\n",
    "        <a href='notebooks/Evaluation_Metrics_Exercises.ipynb' class='btn btn-primary btn-lg' style=\"float:left\">Exercises</a>\n",
    "    </div>\n",
    "</div>"
   ]
  },
  {
   "cell_type": "markdown",
   "metadata": {},
   "source": [
    "<div class=\"row\">\n",
    "    <a href='notebooks/Pipelines.ipynb' class='btn btn-primary btn-lg' style=\"float:left\">Pipelines</a>\n",
    "    <div class=\"row\" style=\"float:right\">\n",
    "        <a href='notebooks/Pipelines_Exercises.ipynb' class='btn btn-primary btn-lg' style=\"float:left\">Exercises</a>\n",
    "    </div>"
   ]
  },
  {
   "cell_type": "markdown",
   "metadata": {},
   "source": [
    "# Unsupervised Learning"
   ]
  },
  {
   "cell_type": "markdown",
   "metadata": {},
   "source": [
    "<div class=\"row\">\n",
    "    <a href='notebooks/Unsupervised_Feature_Extraction.ipynb' class='btn btn-primary btn-lg' style=\"float:left\">Feature Extraction</a>\n",
    "    <div class=\"row\" style=\"float:right\">\n",
    "        <a href='notebooks/Unsupervised_Feature_Extraction_Exercises.ipynb' class='btn btn-primary btn-lg' style=\"float:left\">Exercises</a>\n",
    "    </div>\n",
    "</div>"
   ]
  },
  {
   "cell_type": "markdown",
   "metadata": {},
   "source": [
    "<div class='row'>\n",
    "    <a href='notebooks/Clustering.ipynb' class='btn btn-primary btn-lg'>Clustering</a>\n",
    "    <div class=\"row\" style=\"float:right\">\n",
    "        <a href='notebooks/Clustering_Exercises.ipynb' class='btn btn-danger btn-lg' style=\"float:left\">Exercises</a>\n",
    "    </div>\n",
    "</div>"
   ]
  },
  {
   "cell_type": "markdown",
   "metadata": {},
   "source": [
    "<div class='row'>\n",
    "    <a href='notebooks/Dimensionality.ipynb' class='btn btn-danger btn-lg'>Dimensionality</a>\n",
    "    <div class=\"row\" style=\"float:right\">\n",
    "        <a href='notebooks/Dimensionality_Exercises.ipynb' class='btn btn-danger btn-lg' style=\"float:left\">Exercises</a>\n",
    "    </div>\n",
    "\n",
    "</div>"
   ]
  },
  {
   "cell_type": "markdown",
   "metadata": {},
   "source": [
    "<div class='row'>\n",
    "    <a href='notebooks/Outliers.ipynb' class='btn btn-primary btn-lg'>Outlier Detection</a>\n",
    "    <div class=\"row\" style=\"float:right\">\n",
    "        <a href='notebooks/Outliers_Exercises.ipynb' class='btn btn-danger btn-lg' style=\"float:left\">Exercises</a>\n",
    "    </div>\n",
    "</div>"
   ]
  },
  {
   "cell_type": "markdown",
   "metadata": {},
   "source": [
    "# Neural Networks"
   ]
  },
  {
   "cell_type": "markdown",
   "metadata": {},
   "source": [
    "Basic support for neural networks is available in `scikit-learn`, but for more sophisticated tasks and faster processessing, you will want to use `tensor-flow` or `theano` (or the `keras` and `lasagna` libraries built on top of them)."
   ]
  },
  {
   "cell_type": "markdown",
   "metadata": {},
   "source": [
    "## Feedforward neural networks"
   ]
  },
  {
   "cell_type": "markdown",
   "metadata": {},
   "source": [
    "The feedforward neural network was the first and simplest type of artificial neural network devised. In this network, the information moves in only one direction, forward, from the input nodes, through the hidden nodes (if any) and to the output nodes. There are no cycles or loops in the network. [[ref]](https://en.wikipedia.org/wiki/Feedforward_neural_network)"
   ]
  },
  {
   "cell_type": "markdown",
   "metadata": {},
   "source": [
    "<div class=\"row\">\n",
    "    <a href='notebooks/Perceptrons.ipynb' class='btn btn-primary btn-lg btn-danger'\n",
    "       style=\"float:left\">Perceptrons</a>\n",
    "    <div class=\"row\" style=\"float:right\">\n",
    "        <a href='notebooks/Perceptrons_Exercises.ipynb' class='btn btn-primary btn-lg' style=\"float:left\">Exercises</a>\n",
    "    </div>\n",
    "</div>"
   ]
  },
  {
   "cell_type": "markdown",
   "metadata": {},
   "source": [
    "From here on down, we leave the capabilities of scikit-learn."
   ]
  },
  {
   "cell_type": "markdown",
   "metadata": {},
   "source": [
    "<div class=\"row\">\n",
    "    <a href='notebooks/Convolutional_neural_networks.ipynb' class='btn btn-lg btn-primary btn-danger'\n",
    "       style=\"float:left\">Convolutional neural networks</a>\n",
    "    <div class=\"row\" style=\"float:right\">\n",
    "        <a href='notebooks/Convolutional_neural_networks_Exercises.ipynb' class='btn btn-lg btn-primary' style=\"float:left\">Exercises</a>\n",
    "    </div>\n",
    "</div>"
   ]
  },
  {
   "cell_type": "markdown",
   "metadata": {},
   "source": [
    "## Recurrent neural network"
   ]
  },
  {
   "cell_type": "markdown",
   "metadata": {},
   "source": [
    "A recurrent neural network (RNN) is a class of artificial neural network where connections between units form a directed cycle. This creates an internal state of the network which allows it to exhibit dynamic temporal behavior. Unlike feedforward neural networks, RNNs can use their internal memory to process arbitrary sequences of inputs. This makes them applicable to tasks such as unsegmented connected handwriting recognition or speech recognition. [[ref]](https://en.wikipedia.org/wiki/Recurrent_neural_network)\n",
    "\n",
    "Probably the currently most widely used type of RNN is a *Long short-term memory networks* (LSTM)."
   ]
  },
  {
   "cell_type": "markdown",
   "metadata": {},
   "source": [
    "<div class=\"row\">\n",
    "    <a href='notebooks/Long_short-term_memory_networks.ipynb' class='btn btn-primary btn-lg btn-danger' \n",
    "       style=\"float:left\">Long Short-Term Memory Network</a>\n",
    "    <div class=\"row\" style=\"float:right\">\n",
    "        <a href='notebooks/Long_short-term_memory_networks_Exercises.ipynb' class='btn btn-primary btn-lg' style=\"float:left\">Exercises</a>\n",
    "    </div>\n",
    "</div>"
   ]
  },
  {
   "cell_type": "markdown",
   "metadata": {},
   "source": [
    "<img src='notebooks/img/copyright.png'>"
   ]
  }
 ],
 "metadata": {
  "kernelspec": {
   "display_name": "Python 3",
   "language": "python",
   "name": "python3"
  },
  "language_info": {
   "codemirror_mode": {
    "name": "ipython",
    "version": 3
   },
   "file_extension": ".py",
   "mimetype": "text/x-python",
   "name": "python",
   "nbconvert_exporter": "python",
   "pygments_lexer": "ipython3",
   "version": "3.6.5"
  }
 },
 "nbformat": 4,
 "nbformat_minor": 1
}
