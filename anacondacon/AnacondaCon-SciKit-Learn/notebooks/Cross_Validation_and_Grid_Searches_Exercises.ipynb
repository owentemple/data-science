{
 "cells": [
  {
   "cell_type": "markdown",
   "metadata": {},
   "source": [
    "<img src='img/logo.png'>\n",
    "<img src='img/title.png'>"
   ]
  },
  {
   "cell_type": "markdown",
   "metadata": {},
   "source": [
    "# Exercises"
   ]
  },
  {
   "cell_type": "markdown",
   "metadata": {},
   "source": [
    "Load the bank campaign dataset, and split it into training and test set.\n",
    "Apply grid-search to the training set, searching for the best C for Logistic Regression, also search over L1 penalty vs L2 penalty."
   ]
  },
  {
   "cell_type": "code",
   "execution_count": null,
   "metadata": {},
   "outputs": [],
   "source": [
    "with open('data/bank-campaign-desc.text') as f:\n",
    "    description = f.read()\n",
    "    \n",
    "print(description[2312:])"
   ]
  },
  {
   "cell_type": "code",
   "execution_count": null,
   "metadata": {},
   "outputs": [],
   "source": [
    "import pandas as pd\n",
    "bank = pd.read_csv('data/bank-campaign.csv')\n",
    "y = (bank.target == 'yes').astype('int64')\n",
    "X = bank.drop('target', axis='columns')\n",
    "X.head()"
   ]
  },
  {
   "cell_type": "code",
   "execution_count": null,
   "metadata": {},
   "outputs": [],
   "source": [
    "from sklearn.model_selection import train_test_split\n",
    "from sklearn.model_selection import GridSearchCV\n",
    "from sklearn.linear_model import LogisticRegression"
   ]
  },
  {
   "cell_type": "code",
   "execution_count": null,
   "metadata": {},
   "outputs": [],
   "source": [
    "# your solution here"
   ]
  },
  {
   "cell_type": "markdown",
   "metadata": {},
   "source": [
    "<button data-toggle=\"collapse\" data-target=\"#soln1\" class='btn btn-primary'>Show solution</button>\n",
    "\n",
    "<div id=\"soln1\" class=\"collapse\">\n",
    "\n",
    "Take a look at the categories (labels)\n",
    "\n",
    "```python\n",
    "y\n",
    "```\n",
    "\n",
    "Let us create a train-test split:\n",
    "\n",
    "```python\n",
    "X_train, X_test, y_train, y_test = train_test_split(X, y, random_state=0)\n",
    "```\n",
    "\n",
    "What is the API for a grid search?\n",
    "\n",
    "```python\n",
    "GridSearchCV?\n",
    "```\n",
    "\n",
    "Search over the hyper-parameters:\n",
    "    \n",
    "```python\n",
    "param_grid = { 'C': [0.1, 1, 10, 100], 'penalty': ['l1', 'l2']}\n",
    "grid = GridSearchCV(LogisticRegression(tol=0.001), param_grid, scoring='r2', cv=3)\n",
    "grid.fit(X_train, y_train)\n",
    "```\n",
    "\n",
    "What are the best hyper-parameters and how well does the classifier fit?\n",
    "\n",
    "```python\n",
    "grid.cv_results_\n",
    "grid.score(X_test, y_test)\n",
    "```"
   ]
  },
  {
   "cell_type": "markdown",
   "metadata": {},
   "source": [
    "<img src='img/copyright.png'>"
   ]
  }
 ],
 "metadata": {
  "language_info": {
   "name": "python",
   "pygments_lexer": "ipython3"
  }
 },
 "nbformat": 4,
 "nbformat_minor": 1
}
