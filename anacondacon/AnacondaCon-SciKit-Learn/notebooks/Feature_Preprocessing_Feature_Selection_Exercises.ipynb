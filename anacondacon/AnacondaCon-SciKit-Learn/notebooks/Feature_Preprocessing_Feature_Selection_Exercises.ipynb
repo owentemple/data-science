{
 "cells": [
  {
   "cell_type": "markdown",
   "metadata": {},
   "source": [
    "<img src='img/logo.png'>\n",
    "<img src='img/title.png'>"
   ]
  },
  {
   "cell_type": "markdown",
   "metadata": {},
   "source": [
    "# Table of Contents\n",
    "* [Exercises](#Exercises)\n"
   ]
  },
  {
   "cell_type": "markdown",
   "metadata": {},
   "source": [
    "# Exercises"
   ]
  },
  {
   "cell_type": "markdown",
   "metadata": {},
   "source": [
    "With the adult dataset, compare a logistic regression model with Polynomial interaction features against one without interaction features.\n",
    "\n",
    "Use feature selection to determine which interaction features were most important.\n",
    "\n",
    "Don't forget to scale or normalize the data."
   ]
  },
  {
   "cell_type": "code",
   "execution_count": null,
   "metadata": {},
   "outputs": [],
   "source": [
    "import os\n",
    "import pandas as pd\n",
    "data = pd.read_csv(os.path.join(\"data\", \"adult.csv\"))"
   ]
  },
  {
   "cell_type": "code",
   "execution_count": null,
   "metadata": {},
   "outputs": [],
   "source": [
    "y = (data.income == ' >50K').astype('int64')\n",
    "X = pd.get_dummies(data.drop(\"income\", axis=1)).astype('float64')"
   ]
  },
  {
   "cell_type": "code",
   "execution_count": null,
   "metadata": {},
   "outputs": [],
   "source": [
    "X.head() "
   ]
  },
  {
   "cell_type": "markdown",
   "metadata": {},
   "source": [
    "<button data-toggle=\"collapse\" data-target=\"#soln1\" class='btn btn-primary'>Show solution</button>\n",
    "\n",
    "<div id=\"soln1\" class=\"collapse\">\n",
    "\n",
    "Import a variety of classes and functions from `sklearn` that we will need for this exercise:\n",
    "\n",
    "```python\n",
    "import numpy as np\n",
    "from sklearn.model_selection import train_test_split\n",
    "from sklearn.model_selection import GridSearchCV\n",
    "from sklearn.linear_model import LogisticRegression\n",
    "from sklearn.preprocessing import MinMaxScaler, PolynomialFeatures\n",
    "from sklearn.feature_selection import SelectFromModel\n",
    "from sklearn.ensemble import RandomForestClassifier\n",
    "```\n",
    "\n",
    "Perform a train/test split and scale (normalize) the data.  Remind ourselves of the shape of the parts of our split data:\n",
    "\n",
    "```python\n",
    "X_train, X_test, y_train, y_test = train_test_split(X, y, random_state=0)\n",
    "print(X_train.shape, Xtest.shape, y_train.shape, y_test.shape)\n",
    "\n",
    "scaler = MinMaxScaler().fit(X_train)\n",
    "X_train_ = scaler.transform(X_train)\n",
    "X_test_ = scaler.transform(X_test)\n",
    "```\n",
    "\n",
    "Let's fit the model, and see how well it does:\n",
    "\n",
    "```python\n",
    "LogisticRegression().fit(X_train_, y_train).score(X_test_, y_test)\n",
    "```\n",
    "\n",
    "What if we only select the most important features? What is the shape of these selected features?\n",
    "\n",
    "```python\n",
    "select = SelectFromModel(RandomForestClassifier(n_estimators=100), \n",
    "                         threshold=\"5 * median\")\n",
    "X_train_selected = select.fit_transform(X_train_, y_train)\n",
    "X_test_selected = select.transform(X_test_)\n",
    "print(X_train_selected.shape, X_test_selected.shape)\n",
    "```\n",
    "\n",
    "How much worse do we do with reduced numbers of features (not much!)?\n",
    "\n",
    "```python\n",
    "LogisticRegression().fit(X_train_selected, y_train).score(X_test_selected, y_test)\n",
    "```\n",
    "\n",
    "Using only the most important features (mostly for speed and memory usage optimization), let us also add back in pairwise combinations of features:\n",
    "\n",
    "```python\n",
    "poly = PolynomialFeatures(degree=2).fit(X_train_selected)\n",
    "X_train_selected_poly = poly.transform(X_train_selected)\n",
    "X_test_selected_poly = poly.transform(X_test_selected)\n",
    "poly = PolynomialFeatures(degree=2).fit(X_train_selected)\n",
    "X_train_selected_poly = poly.transform(X_train_selected)\n",
    "X_test_selected_poly = poly.transform(X_test_selected)\n",
    "```\n",
    "\n",
    "How well does the new approach do?\n",
    "\n",
    "```python\n",
    "lr = LogisticRegression().fit(X_train_selected_poly, y_train)\n",
    "lr.score(X_test_selected_poly, y_test)\n",
    "np.array(poly.get_feature_names(\n",
    "             X.columns[select.get_support()]))[lr.coef_.ravel() != 0]\n",
    "```"
   ]
  },
  {
   "cell_type": "markdown",
   "metadata": {},
   "source": [
    "<img src='img/copyright.png'>"
   ]
  }
 ],
 "metadata": {
  "language_info": {
   "name": "python",
   "pygments_lexer": "ipython3"
  }
 },
 "nbformat": 4,
 "nbformat_minor": 1
}
