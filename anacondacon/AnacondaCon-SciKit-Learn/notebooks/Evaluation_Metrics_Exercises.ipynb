{
 "cells": [
  {
   "cell_type": "markdown",
   "metadata": {},
   "source": [
    "<img src='img/logo.png'>\n",
    "<img src='img/title.png'>"
   ]
  },
  {
   "cell_type": "markdown",
   "metadata": {},
   "source": [
    "# Table of Contents\n",
    "* [Exercises](#Exercises)\n"
   ]
  },
  {
   "cell_type": "markdown",
   "metadata": {},
   "source": [
    "# Exercises"
   ]
  },
  {
   "cell_type": "markdown",
   "metadata": {},
   "source": [
    "In an earlier exercise with `LogisticRegression` and the bank campaign data set, we used `GridSearchCV`.\n",
    "\n",
    "In this exercise we'll do a similar grid search, but with the adult dataset from ``data/adult.csv``, attempting to use `LogisticRegression` to predict income class (greater than $50,000/year or not).\n",
    " * Split `adult.csv` into training and test sets.\n",
    " * Apply grid-search to the training set, searching for the best C for Logistic Regression, you may also search over L1 penalty vs L2 penalty.\n",
    " * Plot the ROC curve of the best model on the test set.\n",
    " * Experiment with other scoring options if you have time"
   ]
  },
  {
   "cell_type": "code",
   "execution_count": null,
   "metadata": {},
   "outputs": [],
   "source": [
    "import matplotlib.pyplot as plt\n",
    "%matplotlib inline"
   ]
  },
  {
   "cell_type": "code",
   "execution_count": null,
   "metadata": {},
   "outputs": [],
   "source": [
    "import os\n",
    "import pandas as pd\n",
    "data = pd.read_csv(os.path.join('data', 'adult.csv'), index_col=0)"
   ]
  },
  {
   "cell_type": "code",
   "execution_count": null,
   "metadata": {},
   "outputs": [],
   "source": [
    "data.head() "
   ]
  },
  {
   "cell_type": "markdown",
   "metadata": {},
   "source": [
    "<button data-toggle=\"collapse\" data-target=\"#soln1\" class='btn btn-primary'>Show solution</button>\n",
    "\n",
    "<div id=\"soln1\" class=\"collapse\">\n",
    "\n",
    "First create the binary categories from the data:\n",
    "\n",
    "```python\n",
    "# get dummy variables, needed for scikit-learn models on categorical data:\n",
    "X = pd.get_dummies(data.drop(\"income\", axis=1))\n",
    "y = data.income == \" >50K\"\n",
    "X.head()\n",
    "```\n",
    "\n",
    "Verify the shape of binary anwer\n",
    "\n",
    "```python\n",
    "y.shape\n",
    "```\n",
    "\n",
    "Some general imports then perform train/test split\n",
    "\n",
    "```python\n",
    "%matplotlib inline\n",
    "import matplotlib.pyplot as plt\n",
    "from sklearn.linear_model import LogisticRegression\n",
    "from sklearn.model_selection import GridSearchCV\n",
    "from sklearn.metrics import f1_score\n",
    "from sklearn.metrics import roc_curve\n",
    "from sklearn.metrics import roc_auc_score\n",
    "from sklearn.metrics import accuracy_score\n",
    "from sklearn.metrics import make_scorer\n",
    "from sklearn.model_selection import train_test_split\n",
    "\n",
    "X_train, X_test, y_train, y_test = train_test_split(X, y, random_state=0)\n",
    "```\n",
    "\n",
    "Define a custom scoring function then fit the grid:\n",
    "\n",
    "```python\n",
    "def my_scoring(fitted_estimator, X_test, y_test):\n",
    "    return (fitted_estimator.predict(X_test) == y_test).mean()\n",
    "\n",
    "# setting the tolerance higher than default 1e-4 for demo purposes\n",
    "tol = 0.01\n",
    "param_grid = { 'C': [0.1, 1, 10, 100], 'penalty': ['l1', 'l2']}\n",
    "grid = GridSearchCV(LogisticRegression(tol=tol), param_grid, scoring=my_scoring, cv=3)\n",
    "grid.fit(X_train, y_train)\n",
    "```\n",
    "\n",
    "Explore several scoring functions across grid parameters and graph results:\n",
    "\n",
    "```python\n",
    "auc = roc_auc_score(y_test, grid.decision_function(X_test))\n",
    "fpr, tpr, _ = roc_curve(y_test, grid.decision_function(X_test))\n",
    "print('fpr', fpr, 'tpr', tpr, 'auc', auc)\n",
    "plt.plot(fpr, tpr, linewidth=4)\n",
    "plt.xlabel(\"FPR\")\n",
    "plt.ylabel(\"TPR\")\n",
    "plt.xlim(-0.01, 1)\n",
    "plt.ylim(0, 1.02);\n",
    "\n",
    "\n",
    "def try_scorer(scorer, label):\n",
    "    tol = 0.01\n",
    "    param_grid = { 'C': [0.1, 1, 10, 100], 'penalty': ['l1', 'l2']}\n",
    "    grid = GridSearchCV(LogisticRegression(tol=tol), param_grid, scoring=scorer, cv=3)\n",
    "    grid.fit(X_train, y_train)\n",
    "    auc = roc_auc_score(y_test, grid.decision_function(X_test))\n",
    "    fpr, tpr, _ = roc_curve(y_test, grid.decision_function(X_test))\n",
    "    plt.plot(fpr, tpr, linewidth=4, label=label)\n",
    "    plt.xlabel(\"FPR\")\n",
    "    plt.ylabel(\"TPR\")\n",
    "    plt.xlim(-0.01, 1)\n",
    "    plt.ylim(0, 1.02);\n",
    "    return grid, fpr, tpr, auc\n",
    "\n",
    "scorers = (make_scorer(f1_score, greater_is_better=True), \n",
    "           make_scorer(accuracy_score, greater_is_better=True), \n",
    "           my_scoring)\n",
    "labels = ('f1_score', 'accuracy', 'my_scoring')\n",
    "for label, scorer in zip(labels, scorers):\n",
    "    fitted, fpr, tpr, auc = try_scorer(scorer, label)\n",
    "    print('With scorer', scorer, \n",
    "          '\\n\\tBest Params:', grid.best_params_,\n",
    "          '\\n\\tBest score:', grid.best_score_)\n",
    "plt.legend();\n",
    "```"
   ]
  },
  {
   "cell_type": "markdown",
   "metadata": {},
   "source": [
    "<img src='img/copyright.png'>"
   ]
  }
 ],
 "metadata": {
  "language_info": {
   "name": "python",
   "pygments_lexer": "ipython3"
  }
 },
 "nbformat": 4,
 "nbformat_minor": 1
}
