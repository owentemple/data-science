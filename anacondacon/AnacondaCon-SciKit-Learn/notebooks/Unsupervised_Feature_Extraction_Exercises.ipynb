{
 "cells": [
  {
   "cell_type": "markdown",
   "metadata": {},
   "source": [
    "<img src='img/logo.png'>\n",
    "<img src='img/title.png'>"
   ]
  },
  {
   "cell_type": "markdown",
   "metadata": {},
   "source": [
    "# Exercises"
   ]
  },
  {
   "cell_type": "markdown",
   "metadata": {},
   "source": [
    "# Table of Contents\n",
    "* [Exercises](#Exercises)\n"
   ]
  },
  {
   "cell_type": "markdown",
   "metadata": {},
   "source": [
    "Apply PCA and T-SNE to the Boston housing data. Color the data by regression targets.\n",
    "What can you see?\n",
    "\n",
    "Try `StandardScaler` as a preprocessor to `PCA`.\n",
    "\n",
    "You can use `c=y` in your call to `plt.scatter()`.\n",
    "\n",
    "* [matplotlib.pyplot.scatter docs](http://matplotlib.org/api/pyplot_api.html#matplotlib.pyplot.scatter)"
   ]
  },
  {
   "cell_type": "code",
   "execution_count": null,
   "metadata": {},
   "outputs": [],
   "source": [
    "import matplotlib.pyplot as plt\n",
    "%matplotlib inline"
   ]
  },
  {
   "cell_type": "code",
   "execution_count": null,
   "metadata": {},
   "outputs": [],
   "source": [
    "from sklearn.datasets import load_boston\n",
    "boston = load_boston()\n",
    "y = boston.target\n",
    "X = boston.data"
   ]
  },
  {
   "cell_type": "markdown",
   "metadata": {},
   "source": [
    "<button data-toggle=\"collapse\" data-target=\"#soln1\" class='btn btn-primary'>Show solution</button>\n",
    "\n",
    "<div id=\"soln1\" class=\"collapse\">\n",
    "\n",
    "Load some classes and functions we will use:\n",
    "\n",
    "```python\n",
    "import numpy as np\n",
    "from sklearn.manifold import TSNE\n",
    "from sklearn.decomposition import PCA\n",
    "from sklearn.preprocessing import StandardScaler\n",
    "```\n",
    "\n",
    "Using t-distributed Stochastic Neighbor Embedding, converts similarities between data points into joint probabilities\n",
    "\n",
    "```python\n",
    "tsne = TSNE(n_components=2) # For ease of plotting pick 2 components\n",
    "tsne.get_params()\n",
    "```\n",
    "\n",
    "Look at the scatter plot of the T-SNE transform:\n",
    "\n",
    "```python\n",
    "X_tsne = tsne.fit_transform(X)\n",
    "plt.title(\"All classes\")\n",
    "plt.scatter(X_tsne[:, 0], X_tsne[:, 1], c=y);\n",
    "```\n",
    "\n",
    "Contrast this with the Principle Component Analysis decomposition:\n",
    "\n",
    "```python\n",
    "X_pca = PCA(n_components=2).fit_transform(X)\n",
    "plt.title(\"All classes\")\n",
    "plt.scatter(X_pca[:, 0], X_pca[:, 1], c=y);\n",
    "```\n",
    "\n",
    "We will probably get a better clustering if we apply some scaling to the inputs:\n",
    "\n",
    "```python\n",
    "pca = PCA(n_components=2)\n",
    "st = StandardScaler()\n",
    "X_scaled = st.fit_transform(X)\n",
    "X_pca_scaled = pca.fit_transform(X_scaled)\n",
    "plt.title(\"All classes\")\n",
    "plt.scatter(X_pca_scaled[:, 0], X_pca_scaled[:, 1], c=y);\n",
    "```"
   ]
  },
  {
   "cell_type": "markdown",
   "metadata": {},
   "source": [
    "<img src='img/copyright.png'>"
   ]
  }
 ],
 "metadata": {
  "language_info": {
   "name": "python",
   "pygments_lexer": "ipython3"
  }
 },
 "nbformat": 4,
 "nbformat_minor": 1
}
