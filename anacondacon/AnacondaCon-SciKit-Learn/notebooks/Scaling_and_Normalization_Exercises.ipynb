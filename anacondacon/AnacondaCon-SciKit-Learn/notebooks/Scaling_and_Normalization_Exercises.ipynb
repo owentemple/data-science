{
 "cells": [
  {
   "cell_type": "markdown",
   "metadata": {},
   "source": [
    "<img src='img/logo.png'>\n",
    "<img src='img/title.png'>"
   ]
  },
  {
   "cell_type": "markdown",
   "metadata": {},
   "source": [
    "# Table of Contents\n",
    "* [Exercise](#Exercise)\n"
   ]
  },
  {
   "cell_type": "markdown",
   "metadata": {},
   "source": [
    "# Exercise"
   ]
  },
  {
   "cell_type": "markdown",
   "metadata": {},
   "source": [
    "Load the dataset of housing prices in boston neighborhoods using ``sklearn.datasets.load_boston``.\n",
    "This is a regression dataset for price prediction.\n",
    "Apply a linear model to this regression task, with and without preprocessing."
   ]
  },
  {
   "cell_type": "code",
   "execution_count": null,
   "metadata": {},
   "outputs": [],
   "source": [
    "from sklearn.datasets import load_boston\n",
    "boston = load_boston()\n",
    "X, y = boston.data, boston.target"
   ]
  },
  {
   "cell_type": "code",
   "execution_count": null,
   "metadata": {},
   "outputs": [],
   "source": [
    "print(boston.DESCR)"
   ]
  },
  {
   "cell_type": "code",
   "execution_count": null,
   "metadata": {},
   "outputs": [],
   "source": [
    "# your solution here "
   ]
  },
  {
   "cell_type": "markdown",
   "metadata": {},
   "source": [
    "<button data-toggle=\"collapse\" data-target=\"#soln1\" class='btn btn-primary'>Show solution</button>\n",
    "\n",
    "<div id=\"soln1\" class=\"collapse\">\n",
    "\n",
    "It is worth inspecting the shape and type of our dataset to make sure we have a handle on what is going on:\n",
    "\n",
    "```python\n",
    "print(boston.feature_names)\n",
    "print(X.shape)\n",
    "print(y.shape)\n",
    "print(y[:10])\n",
    "print(y.dtype, y.min(), y.max())\n",
    "```\n",
    "\n",
    "Import classes and functions we want to use:\n",
    "\n",
    "```python\n",
    "from sklearn.preprocessing import StandardScaler, MinMaxScaler, Normalizer, RobustScaler\n",
    "from sklearn.linear_model import Ridge, LinearRegression, Lasso\n",
    "from sklearn.metrics import r2_score, mean_squared_error\n",
    "from sklearn.model_selection import train_test_split\n",
    "```\n",
    "\n",
    "Loop over a variety of preprocessors and models, printing the __R<sup>2</sup>__ score and mean squared error.\n",
    "\n",
    "```python\n",
    "X_train, X_test, y_train, y_test = train_test_split(X, y, random_state=1)\n",
    "def preproc_train_score(preproc, model):\n",
    "    X_train_pre = preproc.fit_transform(X_train)\n",
    "    fitted = model.fit(X_train_pre, y_train)\n",
    "    X_test_pre = preproc.fit_transform(X_test)\n",
    "    pred = model.predict(X_test_pre)\n",
    "    r2 = r2_score(pred, y_test)\n",
    "    mse = mean_squared_error(pred, y_test)\n",
    "    print('With preprocessor\\n\\t{}\\n and model\\n\\t{}\\n\\n\\n\\tr2 = {}, mse = {}\\n\\n'.format(preproc, model, r2, mse))\n",
    "    return fitted, pred, r2, mse\n",
    "       \n",
    "preprocs = [StandardScaler(), MinMaxScaler(), Normalizer(), RobustScaler()]\n",
    "models = [Lasso(), Ridge(), LinearRegression()]\n",
    "for model in models:\n",
    "    for preproc in preprocs:\n",
    "        preproc_train_score(preproc, model)\n",
    "```"
   ]
  },
  {
   "cell_type": "markdown",
   "metadata": {},
   "source": [
    "<img src='img/copyright.png'>"
   ]
  }
 ],
 "metadata": {
  "language_info": {
   "name": "python",
   "pygments_lexer": "ipython3"
  }
 },
 "nbformat": 4,
 "nbformat_minor": 1
}
